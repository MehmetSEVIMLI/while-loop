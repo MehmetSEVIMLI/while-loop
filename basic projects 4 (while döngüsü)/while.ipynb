{
 "cells": [
  {
   "attachments": {},
   "cell_type": "markdown",
   "metadata": {},
   "source": [
    "# while döngüsü\n",
    "\n",
    "\n",
    "``while koşul:``\n",
    "\n",
    "\n",
    "   ``ifadeler``"
   ]
  },
  {
   "attachments": {},
   "cell_type": "markdown",
   "metadata": {},
   "source": [
    "### ÖRNEKLER"
   ]
  },
  {
   "cell_type": "code",
   "execution_count": null,
   "metadata": {},
   "outputs": [],
   "source": [
    "# girilen sayıları toplayan döngü:\n",
    "\n",
    "n = int(input(\"adet giriniz.\"))  ## döngünün kaç kere tekrar etmesini istiyorsak onun sayısını belirliyoruz.\n",
    "s=0\n",
    "i=0\n",
    "while i < n :  ## while döngüsü ise bize i < n seçeneği ile döngünün devam etme koşulunu belirtiyor. \n",
    "    a=int(input(\"toplanacak sayı:\"))\n",
    "    s=s+a  ## burada her sayının döngü tekrar ettikçe toplanmasını sağlıyoruz.\n",
    "    i=i+1  ## burada \"i\" parametresini birer birer arttırarak döngünün  \"i >= n\" olduğunda durmasını sağlıyoruz.\n",
    "print(s)\n"
   ]
  },
  {
   "cell_type": "code",
   "execution_count": null,
   "metadata": {},
   "outputs": [
    {
     "name": "stdout",
     "output_type": "stream",
     "text": [
      "3\n"
     ]
    }
   ],
   "source": [
    "# sayının kaç basamaklı olduğunu bulan bir döngü oluşturalım.\n",
    "\n",
    "n= int(input(\"sayı giriniz: \"))\n",
    "say=0\n",
    "while n>0:\n",
    "    n=n//10\n",
    "    say=say+1\n",
    "print(say)"
   ]
  },
  {
   "cell_type": "code",
   "execution_count": 7,
   "metadata": {},
   "outputs": [
    {
     "name": "stdout",
     "output_type": "stream",
     "text": [
      "15\n"
     ]
    }
   ],
   "source": [
    "# sayının bsamakları toplamını bulan bir döngü \n",
    "\n",
    "n=int(input(\"Sayı giriniz:\"))\n",
    "toplam=0\n",
    "while n>0:\n",
    "    x= n%10   # burada sayıdan kalanı yazdık meseja 123 sayısının 10 ile tam bölümünden kalan 3 gibi.\n",
    "    toplam=toplam+x\n",
    "    n=n//10   ## burada ise sondaki rakamı silerek sayının 12 olmasını sağladık.\n",
    "print(toplam)"
   ]
  },
  {
   "cell_type": "code",
   "execution_count": 20,
   "metadata": {},
   "outputs": [],
   "source": [
    "# pozitif sayılar girelim ve saıalrım toplamını yazsın.\n",
    "#  eğer 0  girilirse program dursun veya negatif sayı girilirse progeram sonuç yazdırmadan dursun.\n",
    "\n",
    "sayi=int(input(\"Sayı giriniz: \"))\n",
    "toplam=0\n",
    "while sayi != 0:\n",
    "    sayi=int(input(\"Sayı giriniz: \"))\n",
    "    if sayi<0:\n",
    "        break\n",
    "    toplam=toplam+sayi\n",
    "else:\n",
    "    print(toplam)"
   ]
  }
 ],
 "metadata": {
  "kernelspec": {
   "display_name": "Python 3",
   "language": "python",
   "name": "python3"
  },
  "language_info": {
   "codemirror_mode": {
    "name": "ipython",
    "version": 3
   },
   "file_extension": ".py",
   "mimetype": "text/x-python",
   "name": "python",
   "nbconvert_exporter": "python",
   "pygments_lexer": "ipython3",
   "version": "3.11.2"
  },
  "orig_nbformat": 4
 },
 "nbformat": 4,
 "nbformat_minor": 2
}
